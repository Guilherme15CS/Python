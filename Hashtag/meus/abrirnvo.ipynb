{
 "cells": [
  {
   "cell_type": "code",
   "execution_count": 22,
   "id": "2c00214e",
   "metadata": {},
   "outputs": [],
   "source": [
    "#Passo 1 importar biblioteca\n",
    "import pyautogui\n",
    "from time import sleep"
   ]
  },
  {
   "cell_type": "code",
   "execution_count": 23,
   "id": "06920abf",
   "metadata": {},
   "outputs": [
    {
     "data": {
      "text/plain": [
       "'#Aba de testes\\nsleep(3)  \\nprint(pyautogui.position())'"
      ]
     },
     "execution_count": 23,
     "metadata": {},
     "output_type": "execute_result"
    }
   ],
   "source": [
    "\"\"\"#Aba de testes\n",
    "sleep(3)  \n",
    "print(pyautogui.position())\"\"\""
   ]
  },
  {
   "cell_type": "code",
   "execution_count": 24,
   "id": "0dda4568",
   "metadata": {},
   "outputs": [],
   "source": [
    "#Passo 2 ver o caminho manual\n",
    "#Abrir windows \n",
    "#digitar o chrome\n",
    "#Pressionr enter\n",
    "#Clicar no simbolo do whatsapp\n",
    "#Clicar na conversa certa\n",
    "#Mandar a mensagem\n",
    "\n",
    "\n"
   ]
  },
  {
   "cell_type": "code",
   "execution_count": 25,
   "id": "db747e12",
   "metadata": {},
   "outputs": [],
   "source": [
    "#Passo 3 fazer o codigo\n",
    "\n",
    "pyautogui.PAUSE = 0.75\n",
    "#Entrar no google\n",
    "pyautogui.press('win')\n",
    "pyautogui.write('chrome')\n",
    "pyautogui.press('enter')\n",
    "#Clicar no whatsapp\n",
    "pyautogui.click(x=903, y=578)\n",
    "sleep(7)\n",
    "\n",
    "#Clicar na conversa\n",
    "pyautogui.click(x=321, y=440)\n",
    "\n",
    "#Escrever e mandar a mensagem\n",
    "pyautogui.write('Oi, tudo bem?')\n",
    "pyautogui.press('enter')\n"
   ]
  }
 ],
 "metadata": {
  "kernelspec": {
   "display_name": "Python 3",
   "language": "python",
   "name": "python3"
  },
  "language_info": {
   "codemirror_mode": {
    "name": "ipython",
    "version": 3
   },
   "file_extension": ".py",
   "mimetype": "text/x-python",
   "name": "python",
   "nbconvert_exporter": "python",
   "pygments_lexer": "ipython3",
   "version": "3.12.9"
  }
 },
 "nbformat": 4,
 "nbformat_minor": 5
}
