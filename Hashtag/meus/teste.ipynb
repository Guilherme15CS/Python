{
 "cells": [
  {
   "cell_type": "code",
   "execution_count": 2,
   "id": "a3cd76e8",
   "metadata": {},
   "outputs": [
    {
     "data": {
      "text/html": [
       "<div>\n",
       "<style scoped>\n",
       "    .dataframe tbody tr th:only-of-type {\n",
       "        vertical-align: middle;\n",
       "    }\n",
       "\n",
       "    .dataframe tbody tr th {\n",
       "        vertical-align: top;\n",
       "    }\n",
       "\n",
       "    .dataframe thead th {\n",
       "        text-align: right;\n",
       "    }\n",
       "</style>\n",
       "<table border=\"1\" class=\"dataframe\">\n",
       "  <thead>\n",
       "    <tr style=\"text-align: right;\">\n",
       "      <th></th>\n",
       "      <th>Localização</th>\n",
       "      <th>Dia</th>\n",
       "      <th>Humidade_min</th>\n",
       "      <th>Humidade_max</th>\n",
       "      <th>Pressão</th>\n",
       "      <th>Precipitação</th>\n",
       "      <th>Probabilidade_chuva</th>\n",
       "      <th>Velocidade_Vento_min</th>\n",
       "      <th>Velocidade_Vento_max</th>\n",
       "      <th>Velocidade_Vento_media</th>\n",
       "      <th>Direção_Vento</th>\n",
       "      <th>Índicie_UV</th>\n",
       "      <th>Sensação_termica_min</th>\n",
       "      <th>Sensação_termica_max</th>\n",
       "      <th>Descrição</th>\n",
       "      <th>Temperatura_min</th>\n",
       "      <th>Temperatura_max</th>\n",
       "      <th>Nascer_Sol</th>\n",
       "      <th>Por_Sol</th>\n",
       "    </tr>\n",
       "  </thead>\n",
       "  <tbody>\n",
       "    <tr>\n",
       "      <th>0</th>\n",
       "      <td>São Paulo,SP</td>\n",
       "      <td>04/06/2025</td>\n",
       "      <td>48%</td>\n",
       "      <td>85%</td>\n",
       "      <td>1018.1hPa</td>\n",
       "      <td>0mm</td>\n",
       "      <td>0%</td>\n",
       "      <td>3Km/h</td>\n",
       "      <td>14Km/</td>\n",
       "      <td>8km/h</td>\n",
       "      <td>NNW</td>\n",
       "      <td>10.0</td>\n",
       "      <td>16°C</td>\n",
       "      <td>27°C</td>\n",
       "      <td>Sol com algumas nuvens. Não chove.</td>\n",
       "      <td>14°C</td>\n",
       "      <td>27°C</td>\n",
       "      <td>06:41:37</td>\n",
       "      <td>17:27:25</td>\n",
       "    </tr>\n",
       "    <tr>\n",
       "      <th>1</th>\n",
       "      <td>São Paulo,SP</td>\n",
       "      <td>05/06/2025</td>\n",
       "      <td>48%</td>\n",
       "      <td>90%</td>\n",
       "      <td>1016.6hPa</td>\n",
       "      <td>6mm</td>\n",
       "      <td>43%</td>\n",
       "      <td>3Km/h</td>\n",
       "      <td>15Km/</td>\n",
       "      <td>7km/h</td>\n",
       "      <td>NNW</td>\n",
       "      <td>8.1</td>\n",
       "      <td>19°C</td>\n",
       "      <td>28°C</td>\n",
       "      <td>Sol com algumas nuvens. Chove rápido durante o...</td>\n",
       "      <td>16°C</td>\n",
       "      <td>28°C</td>\n",
       "      <td>06:42:02</td>\n",
       "      <td>17:27:20</td>\n",
       "    </tr>\n",
       "    <tr>\n",
       "      <th>2</th>\n",
       "      <td>São Paulo,SP</td>\n",
       "      <td>06/06/2025</td>\n",
       "      <td>72%</td>\n",
       "      <td>97%</td>\n",
       "      <td>1018.1hPa</td>\n",
       "      <td>14mm</td>\n",
       "      <td>83%</td>\n",
       "      <td>6Km/h</td>\n",
       "      <td>10Km/</td>\n",
       "      <td>7km/h</td>\n",
       "      <td>SSW</td>\n",
       "      <td>3.1</td>\n",
       "      <td>18°C</td>\n",
       "      <td>22°C</td>\n",
       "      <td>Chuvoso de manhã. Aberturas de sol à tarde e p...</td>\n",
       "      <td>17°C</td>\n",
       "      <td>23°C</td>\n",
       "      <td>06:42:26</td>\n",
       "      <td>17:27:17</td>\n",
       "    </tr>\n",
       "    <tr>\n",
       "      <th>3</th>\n",
       "      <td>São Paulo,SP</td>\n",
       "      <td>07/06/2025</td>\n",
       "      <td>65%</td>\n",
       "      <td>96%</td>\n",
       "      <td>1018.1hPa</td>\n",
       "      <td>2mm</td>\n",
       "      <td>85%</td>\n",
       "      <td>1Km/h</td>\n",
       "      <td>9Km/h</td>\n",
       "      <td>5km/h</td>\n",
       "      <td>ESE</td>\n",
       "      <td>6.6</td>\n",
       "      <td>16°C</td>\n",
       "      <td>23°C</td>\n",
       "      <td>Sol com muitas nuvens e períodos de céu nublad...</td>\n",
       "      <td>16°C</td>\n",
       "      <td>24°C</td>\n",
       "      <td>06:42:50</td>\n",
       "      <td>17:27:15</td>\n",
       "    </tr>\n",
       "    <tr>\n",
       "      <th>4</th>\n",
       "      <td>São Paulo,SP</td>\n",
       "      <td>08/06/2025</td>\n",
       "      <td>62%</td>\n",
       "      <td>96%</td>\n",
       "      <td>1015.1hPa</td>\n",
       "      <td>2mm</td>\n",
       "      <td>82%</td>\n",
       "      <td>1Km/h</td>\n",
       "      <td>10Km/</td>\n",
       "      <td>6km/h</td>\n",
       "      <td>NW</td>\n",
       "      <td>9.9</td>\n",
       "      <td>17°C</td>\n",
       "      <td>25°C</td>\n",
       "      <td>Sol com muitas nuvens passando a chuvoso à tar...</td>\n",
       "      <td>15°C</td>\n",
       "      <td>24°C</td>\n",
       "      <td>06:43:13</td>\n",
       "      <td>17:27:14</td>\n",
       "    </tr>\n",
       "    <tr>\n",
       "      <th>5</th>\n",
       "      <td>São Paulo,SP</td>\n",
       "      <td>09/06/2025</td>\n",
       "      <td>74%</td>\n",
       "      <td>96%</td>\n",
       "      <td>1015.2hPa</td>\n",
       "      <td>8mm</td>\n",
       "      <td>93%</td>\n",
       "      <td>4Km/h</td>\n",
       "      <td>12Km/</td>\n",
       "      <td>8km/h</td>\n",
       "      <td>NW</td>\n",
       "      <td>2.6</td>\n",
       "      <td>14°C</td>\n",
       "      <td>20°C</td>\n",
       "      <td>Sol fechando ainda de manhã, com chuva que se ...</td>\n",
       "      <td>14°C</td>\n",
       "      <td>19°C</td>\n",
       "      <td>06:43:36</td>\n",
       "      <td>17:27:14</td>\n",
       "    </tr>\n",
       "    <tr>\n",
       "      <th>6</th>\n",
       "      <td>São Paulo,SP</td>\n",
       "      <td>10/06/2025</td>\n",
       "      <td>63%</td>\n",
       "      <td>95%</td>\n",
       "      <td>1018.5hPa</td>\n",
       "      <td>0mm</td>\n",
       "      <td>0%</td>\n",
       "      <td>6Km/h</td>\n",
       "      <td>11Km/</td>\n",
       "      <td>9km/h</td>\n",
       "      <td>SE</td>\n",
       "      <td>3.4</td>\n",
       "      <td>11°C</td>\n",
       "      <td>16°C</td>\n",
       "      <td>Sol com muitas nuvens durante o dia e períodos...</td>\n",
       "      <td>13°C</td>\n",
       "      <td>19°C</td>\n",
       "      <td>06:43:58</td>\n",
       "      <td>17:27:16</td>\n",
       "    </tr>\n",
       "  </tbody>\n",
       "</table>\n",
       "</div>"
      ],
      "text/plain": [
       "    Localização         Dia Humidade_min Humidade_max    Pressão Precipitação  \\\n",
       "0  São Paulo,SP  04/06/2025          48%          85%  1018.1hPa          0mm   \n",
       "1  São Paulo,SP  05/06/2025          48%          90%  1016.6hPa          6mm   \n",
       "2  São Paulo,SP  06/06/2025          72%          97%  1018.1hPa         14mm   \n",
       "3  São Paulo,SP  07/06/2025          65%          96%  1018.1hPa          2mm   \n",
       "4  São Paulo,SP  08/06/2025          62%          96%  1015.1hPa          2mm   \n",
       "5  São Paulo,SP  09/06/2025          74%          96%  1015.2hPa          8mm   \n",
       "6  São Paulo,SP  10/06/2025          63%          95%  1018.5hPa          0mm   \n",
       "\n",
       "  Probabilidade_chuva Velocidade_Vento_min Velocidade_Vento_max  \\\n",
       "0                  0%                3Km/h                14Km/   \n",
       "1                 43%                3Km/h                15Km/   \n",
       "2                 83%                6Km/h                10Km/   \n",
       "3                 85%                1Km/h                9Km/h   \n",
       "4                 82%                1Km/h                10Km/   \n",
       "5                 93%                4Km/h                12Km/   \n",
       "6                  0%                6Km/h                11Km/   \n",
       "\n",
       "  Velocidade_Vento_media Direção_Vento  Índicie_UV Sensação_termica_min  \\\n",
       "0                  8km/h           NNW        10.0                 16°C   \n",
       "1                  7km/h           NNW         8.1                 19°C   \n",
       "2                  7km/h           SSW         3.1                 18°C   \n",
       "3                  5km/h           ESE         6.6                 16°C   \n",
       "4                  6km/h            NW         9.9                 17°C   \n",
       "5                  8km/h            NW         2.6                 14°C   \n",
       "6                  9km/h            SE         3.4                 11°C   \n",
       "\n",
       "  Sensação_termica_max                                          Descrição  \\\n",
       "0                 27°C                 Sol com algumas nuvens. Não chove.   \n",
       "1                 28°C  Sol com algumas nuvens. Chove rápido durante o...   \n",
       "2                 22°C  Chuvoso de manhã. Aberturas de sol à tarde e p...   \n",
       "3                 23°C  Sol com muitas nuvens e períodos de céu nublad...   \n",
       "4                 25°C  Sol com muitas nuvens passando a chuvoso à tar...   \n",
       "5                 20°C  Sol fechando ainda de manhã, com chuva que se ...   \n",
       "6                 16°C  Sol com muitas nuvens durante o dia e períodos...   \n",
       "\n",
       "  Temperatura_min Temperatura_max Nascer_Sol   Por_Sol  \n",
       "0            14°C            27°C   06:41:37  17:27:25  \n",
       "1            16°C            28°C   06:42:02  17:27:20  \n",
       "2            17°C            23°C   06:42:26  17:27:17  \n",
       "3            16°C            24°C   06:42:50  17:27:15  \n",
       "4            15°C            24°C   06:43:13  17:27:14  \n",
       "5            14°C            19°C   06:43:36  17:27:14  \n",
       "6            13°C            19°C   06:43:58  17:27:16  "
      ]
     },
     "metadata": {},
     "output_type": "display_data"
    }
   ],
   "source": [
    "import pandas as pd\n",
    "\n",
    "tabela = pd.read_csv(r'C:\\Users\\lcamp\\OneDrive\\Documentos\\VS CODE\\Python\\Hashtag\\meus\\chuva.csv', delimiter=';', on_bad_lines='skip')\n",
    "\n",
    "display(tabela)"
   ]
  },
  {
   "cell_type": "code",
   "execution_count": 3,
   "id": "0bc94545",
   "metadata": {},
   "outputs": [
    {
     "data": {
      "application/vnd.plotly.v1+json": {
       "config": {
        "plotlyServerURL": "https://plot.ly"
       },
       "data": [
        {
         "bingroup": "x",
         "hovertemplate": "Localização=São Paulo,SP<br>Precipitação=%{x}<br>count=%{y}<extra></extra>",
         "legendgroup": "São Paulo,SP",
         "marker": {
          "color": "#636efa",
          "pattern": {
           "shape": ""
          }
         },
         "name": "São Paulo,SP",
         "orientation": "v",
         "showlegend": true,
         "type": "histogram",
         "x": [
          "0mm",
          "6mm",
          "14mm",
          "2mm",
          "2mm",
          "8mm",
          "0mm"
         ],
         "xaxis": "x",
         "yaxis": "y"
        }
       ],
       "layout": {
        "barmode": "relative",
        "legend": {
         "title": {
          "text": "Localização"
         },
         "tracegroupgap": 0
        },
        "margin": {
         "t": 60
        },
        "template": {
         "data": {
          "bar": [
           {
            "error_x": {
             "color": "#2a3f5f"
            },
            "error_y": {
             "color": "#2a3f5f"
            },
            "marker": {
             "line": {
              "color": "#E5ECF6",
              "width": 0.5
             },
             "pattern": {
              "fillmode": "overlay",
              "size": 10,
              "solidity": 0.2
             }
            },
            "type": "bar"
           }
          ],
          "barpolar": [
           {
            "marker": {
             "line": {
              "color": "#E5ECF6",
              "width": 0.5
             },
             "pattern": {
              "fillmode": "overlay",
              "size": 10,
              "solidity": 0.2
             }
            },
            "type": "barpolar"
           }
          ],
          "carpet": [
           {
            "aaxis": {
             "endlinecolor": "#2a3f5f",
             "gridcolor": "white",
             "linecolor": "white",
             "minorgridcolor": "white",
             "startlinecolor": "#2a3f5f"
            },
            "baxis": {
             "endlinecolor": "#2a3f5f",
             "gridcolor": "white",
             "linecolor": "white",
             "minorgridcolor": "white",
             "startlinecolor": "#2a3f5f"
            },
            "type": "carpet"
           }
          ],
          "choropleth": [
           {
            "colorbar": {
             "outlinewidth": 0,
             "ticks": ""
            },
            "type": "choropleth"
           }
          ],
          "contour": [
           {
            "colorbar": {
             "outlinewidth": 0,
             "ticks": ""
            },
            "colorscale": [
             [
              0,
              "#0d0887"
             ],
             [
              0.1111111111111111,
              "#46039f"
             ],
             [
              0.2222222222222222,
              "#7201a8"
             ],
             [
              0.3333333333333333,
              "#9c179e"
             ],
             [
              0.4444444444444444,
              "#bd3786"
             ],
             [
              0.5555555555555556,
              "#d8576b"
             ],
             [
              0.6666666666666666,
              "#ed7953"
             ],
             [
              0.7777777777777778,
              "#fb9f3a"
             ],
             [
              0.8888888888888888,
              "#fdca26"
             ],
             [
              1,
              "#f0f921"
             ]
            ],
            "type": "contour"
           }
          ],
          "contourcarpet": [
           {
            "colorbar": {
             "outlinewidth": 0,
             "ticks": ""
            },
            "type": "contourcarpet"
           }
          ],
          "heatmap": [
           {
            "colorbar": {
             "outlinewidth": 0,
             "ticks": ""
            },
            "colorscale": [
             [
              0,
              "#0d0887"
             ],
             [
              0.1111111111111111,
              "#46039f"
             ],
             [
              0.2222222222222222,
              "#7201a8"
             ],
             [
              0.3333333333333333,
              "#9c179e"
             ],
             [
              0.4444444444444444,
              "#bd3786"
             ],
             [
              0.5555555555555556,
              "#d8576b"
             ],
             [
              0.6666666666666666,
              "#ed7953"
             ],
             [
              0.7777777777777778,
              "#fb9f3a"
             ],
             [
              0.8888888888888888,
              "#fdca26"
             ],
             [
              1,
              "#f0f921"
             ]
            ],
            "type": "heatmap"
           }
          ],
          "histogram": [
           {
            "marker": {
             "pattern": {
              "fillmode": "overlay",
              "size": 10,
              "solidity": 0.2
             }
            },
            "type": "histogram"
           }
          ],
          "histogram2d": [
           {
            "colorbar": {
             "outlinewidth": 0,
             "ticks": ""
            },
            "colorscale": [
             [
              0,
              "#0d0887"
             ],
             [
              0.1111111111111111,
              "#46039f"
             ],
             [
              0.2222222222222222,
              "#7201a8"
             ],
             [
              0.3333333333333333,
              "#9c179e"
             ],
             [
              0.4444444444444444,
              "#bd3786"
             ],
             [
              0.5555555555555556,
              "#d8576b"
             ],
             [
              0.6666666666666666,
              "#ed7953"
             ],
             [
              0.7777777777777778,
              "#fb9f3a"
             ],
             [
              0.8888888888888888,
              "#fdca26"
             ],
             [
              1,
              "#f0f921"
             ]
            ],
            "type": "histogram2d"
           }
          ],
          "histogram2dcontour": [
           {
            "colorbar": {
             "outlinewidth": 0,
             "ticks": ""
            },
            "colorscale": [
             [
              0,
              "#0d0887"
             ],
             [
              0.1111111111111111,
              "#46039f"
             ],
             [
              0.2222222222222222,
              "#7201a8"
             ],
             [
              0.3333333333333333,
              "#9c179e"
             ],
             [
              0.4444444444444444,
              "#bd3786"
             ],
             [
              0.5555555555555556,
              "#d8576b"
             ],
             [
              0.6666666666666666,
              "#ed7953"
             ],
             [
              0.7777777777777778,
              "#fb9f3a"
             ],
             [
              0.8888888888888888,
              "#fdca26"
             ],
             [
              1,
              "#f0f921"
             ]
            ],
            "type": "histogram2dcontour"
           }
          ],
          "mesh3d": [
           {
            "colorbar": {
             "outlinewidth": 0,
             "ticks": ""
            },
            "type": "mesh3d"
           }
          ],
          "parcoords": [
           {
            "line": {
             "colorbar": {
              "outlinewidth": 0,
              "ticks": ""
             }
            },
            "type": "parcoords"
           }
          ],
          "pie": [
           {
            "automargin": true,
            "type": "pie"
           }
          ],
          "scatter": [
           {
            "fillpattern": {
             "fillmode": "overlay",
             "size": 10,
             "solidity": 0.2
            },
            "type": "scatter"
           }
          ],
          "scatter3d": [
           {
            "line": {
             "colorbar": {
              "outlinewidth": 0,
              "ticks": ""
             }
            },
            "marker": {
             "colorbar": {
              "outlinewidth": 0,
              "ticks": ""
             }
            },
            "type": "scatter3d"
           }
          ],
          "scattercarpet": [
           {
            "marker": {
             "colorbar": {
              "outlinewidth": 0,
              "ticks": ""
             }
            },
            "type": "scattercarpet"
           }
          ],
          "scattergeo": [
           {
            "marker": {
             "colorbar": {
              "outlinewidth": 0,
              "ticks": ""
             }
            },
            "type": "scattergeo"
           }
          ],
          "scattergl": [
           {
            "marker": {
             "colorbar": {
              "outlinewidth": 0,
              "ticks": ""
             }
            },
            "type": "scattergl"
           }
          ],
          "scattermap": [
           {
            "marker": {
             "colorbar": {
              "outlinewidth": 0,
              "ticks": ""
             }
            },
            "type": "scattermap"
           }
          ],
          "scattermapbox": [
           {
            "marker": {
             "colorbar": {
              "outlinewidth": 0,
              "ticks": ""
             }
            },
            "type": "scattermapbox"
           }
          ],
          "scatterpolar": [
           {
            "marker": {
             "colorbar": {
              "outlinewidth": 0,
              "ticks": ""
             }
            },
            "type": "scatterpolar"
           }
          ],
          "scatterpolargl": [
           {
            "marker": {
             "colorbar": {
              "outlinewidth": 0,
              "ticks": ""
             }
            },
            "type": "scatterpolargl"
           }
          ],
          "scatterternary": [
           {
            "marker": {
             "colorbar": {
              "outlinewidth": 0,
              "ticks": ""
             }
            },
            "type": "scatterternary"
           }
          ],
          "surface": [
           {
            "colorbar": {
             "outlinewidth": 0,
             "ticks": ""
            },
            "colorscale": [
             [
              0,
              "#0d0887"
             ],
             [
              0.1111111111111111,
              "#46039f"
             ],
             [
              0.2222222222222222,
              "#7201a8"
             ],
             [
              0.3333333333333333,
              "#9c179e"
             ],
             [
              0.4444444444444444,
              "#bd3786"
             ],
             [
              0.5555555555555556,
              "#d8576b"
             ],
             [
              0.6666666666666666,
              "#ed7953"
             ],
             [
              0.7777777777777778,
              "#fb9f3a"
             ],
             [
              0.8888888888888888,
              "#fdca26"
             ],
             [
              1,
              "#f0f921"
             ]
            ],
            "type": "surface"
           }
          ],
          "table": [
           {
            "cells": {
             "fill": {
              "color": "#EBF0F8"
             },
             "line": {
              "color": "white"
             }
            },
            "header": {
             "fill": {
              "color": "#C8D4E3"
             },
             "line": {
              "color": "white"
             }
            },
            "type": "table"
           }
          ]
         },
         "layout": {
          "annotationdefaults": {
           "arrowcolor": "#2a3f5f",
           "arrowhead": 0,
           "arrowwidth": 1
          },
          "autotypenumbers": "strict",
          "coloraxis": {
           "colorbar": {
            "outlinewidth": 0,
            "ticks": ""
           }
          },
          "colorscale": {
           "diverging": [
            [
             0,
             "#8e0152"
            ],
            [
             0.1,
             "#c51b7d"
            ],
            [
             0.2,
             "#de77ae"
            ],
            [
             0.3,
             "#f1b6da"
            ],
            [
             0.4,
             "#fde0ef"
            ],
            [
             0.5,
             "#f7f7f7"
            ],
            [
             0.6,
             "#e6f5d0"
            ],
            [
             0.7,
             "#b8e186"
            ],
            [
             0.8,
             "#7fbc41"
            ],
            [
             0.9,
             "#4d9221"
            ],
            [
             1,
             "#276419"
            ]
           ],
           "sequential": [
            [
             0,
             "#0d0887"
            ],
            [
             0.1111111111111111,
             "#46039f"
            ],
            [
             0.2222222222222222,
             "#7201a8"
            ],
            [
             0.3333333333333333,
             "#9c179e"
            ],
            [
             0.4444444444444444,
             "#bd3786"
            ],
            [
             0.5555555555555556,
             "#d8576b"
            ],
            [
             0.6666666666666666,
             "#ed7953"
            ],
            [
             0.7777777777777778,
             "#fb9f3a"
            ],
            [
             0.8888888888888888,
             "#fdca26"
            ],
            [
             1,
             "#f0f921"
            ]
           ],
           "sequentialminus": [
            [
             0,
             "#0d0887"
            ],
            [
             0.1111111111111111,
             "#46039f"
            ],
            [
             0.2222222222222222,
             "#7201a8"
            ],
            [
             0.3333333333333333,
             "#9c179e"
            ],
            [
             0.4444444444444444,
             "#bd3786"
            ],
            [
             0.5555555555555556,
             "#d8576b"
            ],
            [
             0.6666666666666666,
             "#ed7953"
            ],
            [
             0.7777777777777778,
             "#fb9f3a"
            ],
            [
             0.8888888888888888,
             "#fdca26"
            ],
            [
             1,
             "#f0f921"
            ]
           ]
          },
          "colorway": [
           "#636efa",
           "#EF553B",
           "#00cc96",
           "#ab63fa",
           "#FFA15A",
           "#19d3f3",
           "#FF6692",
           "#B6E880",
           "#FF97FF",
           "#FECB52"
          ],
          "font": {
           "color": "#2a3f5f"
          },
          "geo": {
           "bgcolor": "white",
           "lakecolor": "white",
           "landcolor": "#E5ECF6",
           "showlakes": true,
           "showland": true,
           "subunitcolor": "white"
          },
          "hoverlabel": {
           "align": "left"
          },
          "hovermode": "closest",
          "mapbox": {
           "style": "light"
          },
          "paper_bgcolor": "white",
          "plot_bgcolor": "#E5ECF6",
          "polar": {
           "angularaxis": {
            "gridcolor": "white",
            "linecolor": "white",
            "ticks": ""
           },
           "bgcolor": "#E5ECF6",
           "radialaxis": {
            "gridcolor": "white",
            "linecolor": "white",
            "ticks": ""
           }
          },
          "scene": {
           "xaxis": {
            "backgroundcolor": "#E5ECF6",
            "gridcolor": "white",
            "gridwidth": 2,
            "linecolor": "white",
            "showbackground": true,
            "ticks": "",
            "zerolinecolor": "white"
           },
           "yaxis": {
            "backgroundcolor": "#E5ECF6",
            "gridcolor": "white",
            "gridwidth": 2,
            "linecolor": "white",
            "showbackground": true,
            "ticks": "",
            "zerolinecolor": "white"
           },
           "zaxis": {
            "backgroundcolor": "#E5ECF6",
            "gridcolor": "white",
            "gridwidth": 2,
            "linecolor": "white",
            "showbackground": true,
            "ticks": "",
            "zerolinecolor": "white"
           }
          },
          "shapedefaults": {
           "line": {
            "color": "#2a3f5f"
           }
          },
          "ternary": {
           "aaxis": {
            "gridcolor": "white",
            "linecolor": "white",
            "ticks": ""
           },
           "baxis": {
            "gridcolor": "white",
            "linecolor": "white",
            "ticks": ""
           },
           "bgcolor": "#E5ECF6",
           "caxis": {
            "gridcolor": "white",
            "linecolor": "white",
            "ticks": ""
           }
          },
          "title": {
           "x": 0.05
          },
          "xaxis": {
           "automargin": true,
           "gridcolor": "white",
           "linecolor": "white",
           "ticks": "",
           "title": {
            "standoff": 15
           },
           "zerolinecolor": "white",
           "zerolinewidth": 2
          },
          "yaxis": {
           "automargin": true,
           "gridcolor": "white",
           "linecolor": "white",
           "ticks": "",
           "title": {
            "standoff": 15
           },
           "zerolinecolor": "white",
           "zerolinewidth": 2
          }
         }
        },
        "xaxis": {
         "anchor": "y",
         "domain": [
          0,
          1
         ],
         "title": {
          "text": "Precipitação"
         }
        },
        "yaxis": {
         "anchor": "x",
         "domain": [
          0,
          1
         ],
         "title": {
          "text": "count"
         }
        }
       }
      }
     },
     "metadata": {},
     "output_type": "display_data"
    }
   ],
   "source": [
    "import plotly.express as px\n",
    "grafico = px.histogram(tabela, x='Precipitação', color= 'Localização')\n",
    "grafico.show()"
   ]
  },
  {
   "cell_type": "code",
   "execution_count": 17,
   "id": "fc0ffe60",
   "metadata": {},
   "outputs": [
    {
     "ename": "NameError",
     "evalue": "name 'tabela' is not defined",
     "output_type": "error",
     "traceback": [
      "\u001b[31m---------------------------------------------------------------------------\u001b[39m",
      "\u001b[31mNameError\u001b[39m                                 Traceback (most recent call last)",
      "\u001b[36mCell\u001b[39m\u001b[36m \u001b[39m\u001b[32mIn[1]\u001b[39m\u001b[32m, line 3\u001b[39m\n\u001b[32m      1\u001b[39m \u001b[38;5;28;01mimport\u001b[39;00m\u001b[38;5;250m \u001b[39m\u001b[34;01mplotly\u001b[39;00m\u001b[34;01m.\u001b[39;00m\u001b[34;01mexpress\u001b[39;00m\u001b[38;5;250m \u001b[39m\u001b[38;5;28;01mas\u001b[39;00m\u001b[38;5;250m \u001b[39m\u001b[34;01mpx\u001b[39;00m\n\u001b[32m----> \u001b[39m\u001b[32m3\u001b[39m grafico = px.histogram(\u001b[43mtabela\u001b[49m, x=\u001b[33m'\u001b[39m\u001b[33mPrecipitação\u001b[39m\u001b[33m'\u001b[39m, color= \u001b[33m'\u001b[39m\u001b[33mLocalização\u001b[39m\u001b[33m'\u001b[39m)\n\u001b[32m      5\u001b[39m grafico.show()\n",
      "\u001b[31mNameError\u001b[39m: name 'tabela' is not defined"
     ]
    }
   ],
   "source": [
    "import plotly.express as px\n",
    "\n",
    "grafico = px.histogram(tabela, x='Precipitação', color= 'Localização')\n",
    "\n",
    "grafico.show()"
   ]
  }
 ],
 "metadata": {
  "kernelspec": {
   "display_name": "Python 3",
   "language": "python",
   "name": "python3"
  },
  "language_info": {
   "codemirror_mode": {
    "name": "ipython",
    "version": 3
   },
   "file_extension": ".py",
   "mimetype": "text/x-python",
   "name": "python",
   "nbconvert_exporter": "python",
   "pygments_lexer": "ipython3",
   "version": "3.12.9"
  }
 },
 "nbformat": 4,
 "nbformat_minor": 5
}
